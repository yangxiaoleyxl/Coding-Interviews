{
 "cells": [
  {
   "attachments": {},
   "cell_type": "markdown",
   "metadata": {},
   "source": [
    "### 0705 Python 常见输入输出 "
   ]
  },
  {
   "cell_type": "code",
   "execution_count": 1,
   "metadata": {},
   "outputs": [],
   "source": [
    "# 最简单的输入\n",
    "a = input() "
   ]
  },
  {
   "cell_type": "code",
   "execution_count": null,
   "metadata": {},
   "outputs": [],
   "source": [
    "# 针对多行输入的常见模板\n",
    "\n",
    "import sys\n",
    "\n",
    "for line in sys.stdin:\n",
    "    a = line.split()\n",
    "    print(int(a[0]) + int(a[1])) \n"
   ]
  },
  {
   "cell_type": "code",
   "execution_count": 2,
   "metadata": {},
   "outputs": [
    {
     "name": "stdout",
     "output_type": "stream",
     "text": [
      "131 \n"
     ]
    }
   ],
   "source": [
    "# Output single char \n",
    "print(a) \n"
   ]
  },
  {
   "cell_type": "code",
   "execution_count": 4,
   "metadata": {},
   "outputs": [
    {
     "name": "stdout",
     "output_type": "stream",
     "text": [
      "1 2 3\n",
      "1,2,3\n"
     ]
    }
   ],
   "source": [
    "# Output several numbers \n",
    "a, b, c = 1, 2, 3 \n",
    "\n",
    "print(a, b, c)\n",
    "print(a, b, c, sep=',')  \n"
   ]
  },
  {
   "cell_type": "code",
   "execution_count": 8,
   "metadata": {},
   "outputs": [
    {
     "name": "stdout",
     "output_type": "stream",
     "text": [
      "[1, 2, 3]\n",
      "1\n",
      "2\n",
      "3\n",
      "1 2 3 "
     ]
    }
   ],
   "source": [
    "res = [1, 2, 3]  \n",
    "\n",
    "# Output directly list  \n",
    "print(res)\n",
    "  \n",
    "# Singlely output element \n",
    "for i in range(len(res)): \n",
    "    print(res[i])   \n",
    "\n",
    "# Singlely output element in one line \n",
    "for i in range(len(res)): \n",
    "    print(res[i], end=' ') \n"
   ]
  },
  {
   "cell_type": "code",
   "execution_count": 10,
   "metadata": {},
   "outputs": [
    {
     "name": "stdout",
     "output_type": "stream",
     "text": [
      "abc\n",
      "a*b*c\n"
     ]
    }
   ],
   "source": [
    "# merge list and generate a string  \n",
    "res = ['a', 'b', 'c'] \n",
    "print(\"\".join(res)) \n",
    "\n",
    "# output a*b*c\n",
    "print(\"*\".join(res)) \n"
   ]
  },
  {
   "cell_type": "code",
   "execution_count": 13,
   "metadata": {},
   "outputs": [
    {
     "name": "stdout",
     "output_type": "stream",
     "text": [
      "1\n",
      "2\n",
      "3\n",
      "4\n",
      "5\n"
     ]
    }
   ],
   "source": [
    "# Linkedlist output and input \n",
    "\n",
    "class ListNode: \n",
    "    def __init__(self, val, next=None):\n",
    "        self.val = val \n",
    "        self.next = next \n",
    "\n",
    "def num2ListNode(num2):\n",
    "    dummy = ListNode(None) \n",
    "    root = ListNode(nums[0]) \n",
    "    dummy.next = root \n",
    "    i = 1\n",
    "    while i < len(nums):\n",
    "        node = ListNode(nums[i]) \n",
    "        root.next = node \n",
    "        root = root.next \n",
    "        i += 1\n",
    "        root.next = None \n",
    "    return dummy.next \n",
    "\n",
    "nums = [1,2,3,4,5] \n",
    "root = num2ListNode(nums) \n",
    "while root:\n",
    "    print(root.val) \n",
    "    root = root.next "
   ]
  },
  {
   "cell_type": "code",
   "execution_count": null,
   "metadata": {},
   "outputs": [],
   "source": []
  }
 ],
 "metadata": {
  "kernelspec": {
   "display_name": "MCE5908",
   "language": "python",
   "name": "python3"
  },
  "language_info": {
   "codemirror_mode": {
    "name": "ipython",
    "version": 3
   },
   "file_extension": ".py",
   "mimetype": "text/x-python",
   "name": "python",
   "nbconvert_exporter": "python",
   "pygments_lexer": "ipython3",
   "version": "3.9.13"
  },
  "orig_nbformat": 4
 },
 "nbformat": 4,
 "nbformat_minor": 2
}
