{
 "cells": [
  {
   "attachments": {},
   "cell_type": "markdown",
   "metadata": {},
   "source": [
    "### 0705 Python 常见输入输出 "
   ]
  },
  {
   "cell_type": "code",
   "execution_count": 1,
   "metadata": {},
   "outputs": [],
   "source": [
    "# 最简单的输入\n",
    "a = input() "
   ]
  },
  {
   "cell_type": "code",
   "execution_count": null,
   "metadata": {},
   "outputs": [],
   "source": [
    "# 针对多行输入的常见模板\n",
    "\n",
    "import sys\n",
    "\n",
    "for line in sys.stdin:\n",
    "    a = line.split()\n",
    "    print(int(a[0]) + int(a[1])) \n"
   ]
  },
  {
   "cell_type": "code",
   "execution_count": 2,
   "metadata": {},
   "outputs": [
    {
     "name": "stdout",
     "output_type": "stream",
     "text": [
      "131 \n"
     ]
    }
   ],
   "source": [
    "# Output single char \n",
    "print(a) \n"
   ]
  },
  {
   "cell_type": "code",
   "execution_count": 4,
   "metadata": {},
   "outputs": [
    {
     "name": "stdout",
     "output_type": "stream",
     "text": [
      "1 2 3\n",
      "1,2,3\n"
     ]
    }
   ],
   "source": [
    "# Output several numbers \n",
    "a, b, c = 1, 2, 3 \n",
    "\n",
    "print(a, b, c)\n",
    "print(a, b, c, sep=',')  \n"
   ]
  },
  {
   "cell_type": "code",
   "execution_count": 8,
   "metadata": {},
   "outputs": [
    {
     "name": "stdout",
     "output_type": "stream",
     "text": [
      "[1, 2, 3]\n",
      "1\n",
      "2\n",
      "3\n",
      "1 2 3 "
     ]
    }
   ],
   "source": [
    "res = [1, 2, 3]  \n",
    "\n",
    "# Output directly list  \n",
    "print(res)\n",
    "  \n",
    "# Singlely output element \n",
    "for i in range(len(res)): \n",
    "    print(res[i])   \n",
    "\n",
    "# Singlely output element in one line \n",
    "for i in range(len(res)): \n",
    "    print(res[i], end=' ') \n"
   ]
  },
  {
   "cell_type": "code",
   "execution_count": 10,
   "metadata": {},
   "outputs": [
    {
     "name": "stdout",
     "output_type": "stream",
     "text": [
      "abc\n",
      "a*b*c\n"
     ]
    }
   ],
   "source": [
    "# merge list and generate a string  \n",
    "res = ['a', 'b', 'c'] \n",
    "print(\"\".join(res)) \n",
    "\n",
    "# output a*b*c\n",
    "print(\"*\".join(res)) \n"
   ]
  },
  {
   "cell_type": "code",
   "execution_count": 13,
   "metadata": {},
   "outputs": [
    {
     "name": "stdout",
     "output_type": "stream",
     "text": [
      "1\n",
      "2\n",
      "3\n",
      "4\n",
      "5\n"
     ]
    }
   ],
   "source": [
    "# Linkedlist output and input \n",
    "\n",
    "class ListNode: \n",
    "    def __init__(self, val, next=None):\n",
    "        self.val = val \n",
    "        self.next = next \n",
    "\n",
    "def num2ListNode(num2):\n",
    "    dummy = ListNode(None) \n",
    "    root = ListNode(nums[0]) \n",
    "    dummy.next = root \n",
    "    i = 1\n",
    "    while i < len(nums):\n",
    "        node = ListNode(nums[i]) \n",
    "        root.next = node \n",
    "        root = root.next \n",
    "        i += 1\n",
    "        root.next = None \n",
    "    return dummy.next \n",
    "\n",
    "res = [] \n",
    "nums = [1,2,3,4,5] \n",
    "root = num2ListNode(nums) \n",
    "while root:\n",
    "    print(root.val) \n",
    "    root = root.next "
   ]
  },
  {
   "attachments": {},
   "cell_type": "markdown",
   "metadata": {},
   "source": [
    "#### Test case "
   ]
  },
  {
   "cell_type": "code",
   "execution_count": 8,
   "metadata": {},
   "outputs": [
    {
     "name": "stdout",
     "output_type": "stream",
     "text": [
      "aet\n",
      "{'aet': 'eat'}\n",
      "aet\n"
     ]
    },
    {
     "ename": "AttributeError",
     "evalue": "'str' object has no attribute 'append'",
     "output_type": "error",
     "traceback": [
      "\u001b[1;31m---------------------------------------------------------------------------\u001b[0m",
      "\u001b[1;31mAttributeError\u001b[0m                            Traceback (most recent call last)",
      "\u001b[1;32md:\\graduate_file\\CUHK\\Job\\Coding-Interviews\\ACM_IO.ipynb Cell 10\u001b[0m in \u001b[0;36m<cell line: 5>\u001b[1;34m()\u001b[0m\n\u001b[0;32m     <a href='vscode-notebook-cell:/d%3A/graduate_file/CUHK/Job/Coding-Interviews/ACM_IO.ipynb#X13sZmlsZQ%3D%3D?line=9'>10</a>\u001b[0m     \u001b[39mprint\u001b[39m(table)\n\u001b[0;32m     <a href='vscode-notebook-cell:/d%3A/graduate_file/CUHK/Job/Coding-Interviews/ACM_IO.ipynb#X13sZmlsZQ%3D%3D?line=10'>11</a>\u001b[0m \u001b[39melse\u001b[39;00m:\n\u001b[1;32m---> <a href='vscode-notebook-cell:/d%3A/graduate_file/CUHK/Job/Coding-Interviews/ACM_IO.ipynb#X13sZmlsZQ%3D%3D?line=11'>12</a>\u001b[0m     table[s_]\u001b[39m.\u001b[39;49mappend(s)\n",
      "\u001b[1;31mAttributeError\u001b[0m: 'str' object has no attribute 'append'"
     ]
    }
   ],
   "source": [
    "from collections import defaultdict \n",
    "\n",
    "strs = [\"eat\", \"tea\", \"tan\", \"ate\", \"nat\", \"bat\"] \n",
    "table = {}  \n",
    "for s in strs:\n",
    "    s_ = ''.join(sorted(s))  \n",
    "    print(s_)  \n",
    "    if s_ not in table:\n",
    "        table[s_] = s \n",
    "        print(table)\n",
    "    else:\n",
    "        table[s_].append(s) \n",
    "\n",
    "# list(table.value())"
   ]
  },
  {
   "cell_type": "code",
   "execution_count": 15,
   "metadata": {},
   "outputs": [
    {
     "name": "stdout",
     "output_type": "stream",
     "text": [
      "12\n"
     ]
    }
   ],
   "source": [
    "num = ['2', '9', '3'] \n",
    "num = list(map(int, num))  \n",
    "n = int(num[0])\n",
    "print(sum(num[-n:]) ) \n",
    "\n"
   ]
  },
  {
   "cell_type": "code",
   "execution_count": 1,
   "metadata": {},
   "outputs": [
    {
     "name": "stdout",
     "output_type": "stream",
     "text": [
      "4\n",
      "\n"
     ]
    }
   ],
   "source": [
    "# 输入包含多组测试样例。每组测试样例包含一个正整数n，表示小明已经堆好的积木堆的个数。\n",
    "# 接着下一行是n个正整数，表示每一个积木堆的高度h，每块积木高度为1。其中1<=n<=50,1<=h<=100。\n",
    "# 测试数据保证积木总数能被积木堆数整除。\n",
    "# 当n=0时，输入结束。 \n",
    "\n",
    "# 对于每一组数据，输出将积木堆变成相同高度需要移动的最少积木块的数量。\n",
    "# 在每组输出结果的下面都输出一个空行。 \n",
    "\n",
    "# 样例输入：\n",
    "# 6\n",
    "# 5 2 4 1 7 5\n",
    "# 0 \n",
    "\n",
    "# 输出：\n",
    "# 5 \n",
    "\n",
    "while 1:\n",
    "    try:\n",
    "        n = int( input() ) \n",
    "        ls = list( map(int, input().split() ) ) \n",
    "        ls.sort() \n",
    "        m = sum(ls) // n \n",
    "        moves = 0 \n",
    "        for i in ls:\n",
    "            moves += abs(i-m) \n",
    "        print(moves // 2) \n",
    "        print() \n",
    "    except: \n",
    "        break "
   ]
  },
  {
   "cell_type": "code",
   "execution_count": 4,
   "metadata": {},
   "outputs": [
    {
     "name": "stdout",
     "output_type": "stream",
     "text": [
      "6\n",
      "\n"
     ]
    }
   ],
   "source": [
    "# 此代码段功能\n",
    "# 1.依次提取输入整数的各个位上的数字 \n",
    "# 2.判断是否此位数字是否位偶数，若是，则计入求和，否则不计入 \n",
    "# 这里提取各位数字的技巧在于： \n",
    "#           each = n % 10  从个位开始取数字\n",
    "#           n = n // 10  每取出一位，相当于右移一位，大小减小10倍\n",
    "\n",
    "while 1:\n",
    "    try:\n",
    "        n = int(input())\n",
    "        res = 0  \n",
    "        while n: \n",
    "            each = n % 10   \n",
    "            if each % 2 == 0:\n",
    "                res += each \n",
    "            n = n // 10 \n",
    "        print(res) \n",
    "        print()\n",
    "    except: \n",
    "        break \n",
    "\n"
   ]
  }
 ],
 "metadata": {
  "kernelspec": {
   "display_name": "MCE5908",
   "language": "python",
   "name": "python3"
  },
  "language_info": {
   "codemirror_mode": {
    "name": "ipython",
    "version": 3
   },
   "file_extension": ".py",
   "mimetype": "text/x-python",
   "name": "python",
   "nbconvert_exporter": "python",
   "pygments_lexer": "ipython3",
   "version": "3.9.13"
  },
  "orig_nbformat": 4
 },
 "nbformat": 4,
 "nbformat_minor": 2
}
